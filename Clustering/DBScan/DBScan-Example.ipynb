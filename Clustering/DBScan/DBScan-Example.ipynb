{
 "cells": [
  {
   "cell_type": "code",
   "execution_count": 1,
   "metadata": {
    "collapsed": true
   },
   "outputs": [],
   "source": [
    "import numpy as np\n",
    "import matplotlib.pyplot as plt\n",
    "import pandas as pd"
   ]
  },
  {
   "cell_type": "code",
   "execution_count": 2,
   "metadata": {
    "collapsed": true
   },
   "outputs": [],
   "source": [
    "import sys\n",
    "sys.path.append('../common')\n",
    "from commonfunctions import visualize_cluster_data"
   ]
  },
  {
   "cell_type": "code",
   "execution_count": 3,
   "metadata": {},
   "outputs": [
    {
     "data": {
      "text/html": [
       "<div>\n",
       "<style>\n",
       "    .dataframe thead tr:only-child th {\n",
       "        text-align: right;\n",
       "    }\n",
       "\n",
       "    .dataframe thead th {\n",
       "        text-align: left;\n",
       "    }\n",
       "\n",
       "    .dataframe tbody tr th {\n",
       "        vertical-align: top;\n",
       "    }\n",
       "</style>\n",
       "<table border=\"1\" class=\"dataframe\">\n",
       "  <thead>\n",
       "    <tr style=\"text-align: right;\">\n",
       "      <th></th>\n",
       "      <th>#</th>\n",
       "      <th>x</th>\n",
       "      <th>y</th>\n",
       "    </tr>\n",
       "  </thead>\n",
       "  <tbody>\n",
       "    <tr>\n",
       "      <th>0</th>\n",
       "      <td>1</td>\n",
       "      <td>10</td>\n",
       "      <td>28</td>\n",
       "    </tr>\n",
       "    <tr>\n",
       "      <th>1</th>\n",
       "      <td>2</td>\n",
       "      <td>10</td>\n",
       "      <td>14</td>\n",
       "    </tr>\n",
       "    <tr>\n",
       "      <th>2</th>\n",
       "      <td>3</td>\n",
       "      <td>11</td>\n",
       "      <td>12</td>\n",
       "    </tr>\n",
       "    <tr>\n",
       "      <th>3</th>\n",
       "      <td>4</td>\n",
       "      <td>11</td>\n",
       "      <td>15</td>\n",
       "    </tr>\n",
       "    <tr>\n",
       "      <th>4</th>\n",
       "      <td>5</td>\n",
       "      <td>12</td>\n",
       "      <td>14</td>\n",
       "    </tr>\n",
       "    <tr>\n",
       "      <th>5</th>\n",
       "      <td>6</td>\n",
       "      <td>12</td>\n",
       "      <td>11</td>\n",
       "    </tr>\n",
       "    <tr>\n",
       "      <th>6</th>\n",
       "      <td>7</td>\n",
       "      <td>13</td>\n",
       "      <td>12</td>\n",
       "    </tr>\n",
       "    <tr>\n",
       "      <th>7</th>\n",
       "      <td>8</td>\n",
       "      <td>20</td>\n",
       "      <td>23</td>\n",
       "    </tr>\n",
       "    <tr>\n",
       "      <th>8</th>\n",
       "      <td>9</td>\n",
       "      <td>20</td>\n",
       "      <td>25</td>\n",
       "    </tr>\n",
       "    <tr>\n",
       "      <th>9</th>\n",
       "      <td>10</td>\n",
       "      <td>20</td>\n",
       "      <td>10</td>\n",
       "    </tr>\n",
       "  </tbody>\n",
       "</table>\n",
       "</div>"
      ],
      "text/plain": [
       "    #   x   y\n",
       "0   1  10  28\n",
       "1   2  10  14\n",
       "2   3  11  12\n",
       "3   4  11  15\n",
       "4   5  12  14\n",
       "5   6  12  11\n",
       "6   7  13  12\n",
       "7   8  20  23\n",
       "8   9  20  25\n",
       "9  10  20  10"
      ]
     },
     "execution_count": 3,
     "metadata": {},
     "output_type": "execute_result"
    }
   ],
   "source": [
    "# Read the dataset\n",
    "dataset = pd.read_csv('../Data/data3.csv')\n",
    "dataset.head(10)"
   ]
  },
  {
   "cell_type": "code",
   "execution_count": 4,
   "metadata": {},
   "outputs": [
    {
     "data": {
      "image/png": "[encoded data removed]",
      "text/plain": [
       "<matplotlib.figure.Figure at 0x1f4d8368be0>"
      ]
     },
     "metadata": {},
     "output_type": "display_data"
    }
   ],
   "source": [
    "# Select dataset if required\n",
    "X = dataset.iloc[:, [1,2]].values\n",
    "clusters = [2] * X.shape[0]\n",
    "visualize_cluster_data(plt, X, clusters, 'Raw data')\n"
   ]
  },
  {
   "cell_type": "markdown",
   "metadata": {
    "collapsed": true
   },
   "source": [
    "## Calculate the distance between all data points"
   ]
  },
  {
   "cell_type": "code",
   "execution_count": 5,
   "metadata": {},
   "outputs": [
    {
     "name": "stdout",
     "output_type": "stream",
     "text": [
      "[[  0.   14.   16.   13.   14.1  17.1  16.3  11.2  10.4  20.6  11.7  18.2\n",
      "    9.8  19.1  18.   19.   17.   18.1  19.2  20. ]\n",
      " [ 14.    0.    2.2   1.4   2.    3.6   3.6  13.5  14.9  10.8  14.9  21.1\n",
      "   13.5  24.8  22.2  23.   22.   24.1  22.   24.4]\n",
      " [ 16.    2.2   0.    3.    2.2   1.4   2.   14.2  15.8   9.2  15.6  21.4\n",
      "   14.4  25.5  22.7  23.4  22.6  24.8  22.2  24.8]\n",
      " [ 13.    1.4   3.    0.    1.4   4.1   3.6  12.   13.5  10.3  13.5  19.7\n",
      "   12.   23.4  20.8  21.6  20.6  22.7  20.6  23. ]\n",
      " [ 14.1   2.    2.2   1.4   0.    3.    2.2  12.   13.6   8.9  13.5  19.4\n",
      "   12.2  23.3  20.6  21.4  20.5  22.6  20.2  22.8]\n",
      " [ 17.1   3.6   1.4   4.1   3.    0.    1.4  14.4  16.1   8.1  15.8  21.3\n",
      "   14.8  25.5  22.6  23.3  22.7  24.8  22.   24.8]\n",
      " [ 16.3   3.6   2.    3.6   2.2   1.4   0.   13.   14.8   7.3  14.4  19.8\n",
      "   13.4  24.1  21.2  21.9  21.3  23.4  20.6  23.3]\n",
      " [ 11.2  13.5  14.2  12.   12.   14.4  13.    0.    2.   13.    1.4   8.2\n",
      "    1.4  11.4   8.9   9.8   8.6  10.6   9.2  11.2]\n",
      " [ 10.4  14.9  15.8  13.5  13.6  16.1  14.8   2.    0.   15.    1.4   8.\n",
      "    1.4  10.3   8.2   9.2   7.6   9.4   9.   10.4]\n",
      " [ 20.6  10.8   9.2  10.3   8.9   8.1   7.3  13.   15.    0.   14.   17.\n",
      "   14.   21.9  18.8  19.2  19.3  21.5  17.5  20.6]\n",
      " [ 11.7  14.9  15.6  13.5  13.5  15.8  14.4   1.4   1.4  14.    0.    7.1\n",
      "    2.   10.    7.6   8.5   7.2   9.2   8.1   9.8]\n",
      " [ 18.2  21.1  21.4  19.7  19.4  21.3  19.8   8.2   8.   17.    7.1   0.\n",
      "    9.1   5.1   2.    2.2   3.2   5.    1.    3.6]\n",
      " [  9.8  13.5  14.4  12.   12.2  14.8  13.4   1.4   1.4  14.    2.    9.1\n",
      "    0.   11.7   9.5  10.4   8.9  10.8  10.   11.7]\n",
      " [ 19.1  24.8  25.5  23.4  23.3  25.5  24.1  11.4  10.3  21.9  10.    5.1\n",
      "   11.7   0.    3.2   3.    2.8   1.    5.    2.2]\n",
      " [ 18.   22.2  22.7  20.8  20.6  22.6  21.2   8.9   8.2  18.8   7.6   2.\n",
      "    9.5   3.2   0.    1.    1.4   3.    2.2   2.2]\n",
      " [ 19.   23.   23.4  21.6  21.4  23.3  21.9   9.8   9.2  19.2   8.5   2.2\n",
      "   10.4   3.    1.    0.    2.2   3.2   2.    1.4]\n",
      " [ 17.   22.   22.6  20.6  20.5  22.7  21.3   8.6   7.6  19.3   7.2   3.2\n",
      "    8.9   2.8   1.4   2.2   0.    2.2   3.6   3. ]\n",
      " [ 18.1  24.1  24.8  22.7  22.6  24.8  23.4  10.6   9.4  21.5   9.2   5.\n",
      "   10.8   1.    3.    3.2   2.2   0.    5.1   2.8]\n",
      " [ 19.2  22.   22.2  20.6  20.2  22.   20.6   9.2   9.   17.5   8.1   1.\n",
      "   10.    5.    2.2   2.    3.6   5.1   0.    3.2]\n",
      " [ 20.   24.4  24.8  23.   22.8  24.8  23.3  11.2  10.4  20.6   9.8   3.6\n",
      "   11.7   2.2   2.2   1.4   3.    2.8   3.2   0. ]]\n"
     ]
    }
   ],
   "source": [
    "# Calculate the euclidean distance\n",
    "from sklearn.neighbors import kneighbors_graph\n",
    "connectivity = kneighbors_graph(X, X.shape[0] - 1, mode='distance')\n",
    "np.set_printoptions(precision=1, suppress=True)\n",
    "connectivity = connectivity.toarray()\n",
    "print (connectivity)"
   ]
  },
  {
   "cell_type": "markdown",
   "metadata": {},
   "source": [
    "## Algorithm\n",
    "Instead of creataing a loop to run each step, we will run each iteration one at a time to get a better understanding of the process"
   ]
  },
  {
   "cell_type": "code",
   "execution_count": 6,
   "metadata": {
    "collapsed": true
   },
   "outputs": [],
   "source": [
    "# Set parameters\n",
    "\n",
    "# DBSCAN parameters\n",
    "eps = 4\n",
    "min_points = 3\n",
    "\n",
    "# Mark all data poitns as outliers to begin with. This way when we are done with the algorithm, whatever remains are the outliers\n",
    "clusters = [-1] * X.shape[0]\n",
    "current_cluster = 0\n",
    "\n",
    "# to keep track of indices\n",
    "indices = np.array(range(X.shape[0]))"
   ]
  },
  {
   "cell_type": "markdown",
   "metadata": {},
   "source": [
    "Calculate density for each point based on distance <= eps"
   ]
  },
  {
   "cell_type": "code",
   "execution_count": 7,
   "metadata": {
    "collapsed": true
   },
   "outputs": [],
   "source": [
    "density = np.sum(connectivity < eps, axis = 1)"
   ]
  },
  {
   "cell_type": "markdown",
   "metadata": {},
   "source": [
    "Set the most dense point as the start of current cluster"
   ]
  },
  {
   "cell_type": "code",
   "execution_count": 8,
   "metadata": {},
   "outputs": [
    {
     "name": "stdout",
     "output_type": "stream",
     "text": [
      "[1 6 6 5 6 5 6 4 4 1 4 6 4 6 8 8 8 6 6 8]\n"
     ]
    }
   ],
   "source": [
    "maxIndex = np.argmax(density)\n",
    "print(density)"
   ]
  },
  {
   "cell_type": "markdown",
   "metadata": {},
   "source": [
    "If the max density point does not have minimum number of samples, stop the algorithm. Else mark the highest density point in the current cluster"
   ]
  },
  {
   "cell_type": "code",
   "execution_count": 9,
   "metadata": {},
   "outputs": [
    {
     "data": {
      "image/png": "[encoded data removed]",
      "text/plain": [
       "<matplotlib.figure.Figure at 0x1f4d86430b8>"
      ]
     },
     "metadata": {},
     "output_type": "display_data"
    }
   ],
   "source": [
    "if (density[maxIndex] >= min_points):\n",
    "    clusters[np.argmax(density)] = current_cluster\n",
    "else:\n",
    "    print('Done')\n",
    "    \n",
    "# Visualize the data\n",
    "visualize_cluster_data(plt, X, clusters, 'Step 1', filename = 'DBScanExampleStep1')"
   ]
  },
  {
   "cell_type": "markdown",
   "metadata": {},
   "source": [
    "Identify neighbours of the current point within eps distance"
   ]
  },
  {
   "cell_type": "code",
   "execution_count": 10,
   "metadata": {},
   "outputs": [],
   "source": [
    "current_distance = connectivity[maxIndex]\n",
    "current_indices = indices[current_distance<eps]"
   ]
  },
  {
   "cell_type": "markdown",
   "metadata": {},
   "source": [
    "If each of these points have minimum sample points around them, mark them for recursive exploration"
   ]
  },
  {
   "cell_type": "code",
   "execution_count": 11,
   "metadata": {},
   "outputs": [
    {
     "name": "stdout",
     "output_type": "stream",
     "text": [
      "[11 13 14 15 16 17 18 19]\n"
     ]
    }
   ],
   "source": [
    "related_clusters = current_indices[density[current_indices] >= min_points]\n",
    "print(related_clusters)"
   ]
  },
  {
   "cell_type": "markdown",
   "metadata": {},
   "source": [
    "For each of the points marked for exploration, if they do not belong to any cluster,\n",
    "    assign the point to current cluster and \n",
    "    identify neighours withing eps distance    "
   ]
  },
  {
   "cell_type": "code",
   "execution_count": 12,
   "metadata": {},
   "outputs": [
    {
     "name": "stdout",
     "output_type": "stream",
     "text": [
      "[array([11, 13, 14, 15, 16, 17, 18, 19]), array([11, 13, 14, 15, 16, 17, 18, 19]), array([11, 13, 14, 15, 16, 17, 18, 19]), array([11, 13, 14, 15, 16, 17, 18, 19]), array([11, 13, 14, 15, 16, 17, 18, 19]), array([11, 13, 14, 15, 16, 17, 18, 19]), array([11, 13, 14, 15, 16, 17, 18, 19])]\n"
     ]
    }
   ],
   "source": [
    "new_relations = []\n",
    "for c in related_clusters:\n",
    "    if (clusters[c] == -1): # Only for un allocated points\n",
    "        clusters[c] = current_cluster\n",
    "        \n",
    "        # identify and append the neighbours\n",
    "        new_distances = connectivity[c]\n",
    "        new_indices = indices[current_distance<eps]\n",
    "        new_relations.append(new_indices[density[new_indices] >= min_points])\n",
    "\n",
    "print(new_relations)"
   ]
  },
  {
   "cell_type": "markdown",
   "metadata": {},
   "source": [
    "As all of the 'new relations' have already been allocated to clusters, we are done with this high density area. "
   ]
  },
  {
   "cell_type": "code",
   "execution_count": 13,
   "metadata": {},
   "outputs": [
    {
     "data": {
      "image/png": "[encoded data removed]",
      "text/plain": [
       "<matplotlib.figure.Figure at 0x1f4db5d4d68>"
      ]
     },
     "metadata": {},
     "output_type": "display_data"
    }
   ],
   "source": [
    "visualize_cluster_data(plt, X, clusters, 'Step 2', filename = 'DBScanExampleStep2')"
   ]
  },
  {
   "cell_type": "markdown",
   "metadata": {},
   "source": [
    "Start the next iteration with remaining data points. Objective is to find the high density areas from remaining data points"
   ]
  },
  {
   "cell_type": "code",
   "execution_count": 14,
   "metadata": {
    "collapsed": true
   },
   "outputs": [],
   "source": [
    "# Start looking for next cluster\n",
    "current_cluster = current_cluster + 1\n",
    "\n",
    "# Identify remaining points\n",
    "remaining_indices = []\n",
    "i = 0;\n",
    "for c in clusters:\n",
    "    if c == -1:\n",
    "        remaining_indices.append(i)\n",
    "    i = i+ 1"
   ]
  },
  {
   "cell_type": "markdown",
   "metadata": {},
   "source": [
    "Identify maximum density point from the remaining points"
   ]
  },
  {
   "cell_type": "code",
   "execution_count": 15,
   "metadata": {},
   "outputs": [],
   "source": [
    "remaining_density = density[remaining_indices]\n",
    "maxIndex = remaining_indices[np.argmax(remaining_density)]"
   ]
  },
  {
   "cell_type": "markdown",
   "metadata": {},
   "source": [
    "If the max density point does not have minimum number of samples, stop the algorithm. Else mark the highest density point in the current cluster"
   ]
  },
  {
   "cell_type": "code",
   "execution_count": 16,
   "metadata": {},
   "outputs": [
    {
     "data": {
      "image/png": "[encoded data removed]",
      "text/plain": [
       "<matplotlib.figure.Figure at 0x1f4d86bc940>"
      ]
     },
     "metadata": {},
     "output_type": "display_data"
    }
   ],
   "source": [
    "if (density[maxIndex] >= min_points):\n",
    "    clusters[maxIndex] = current_cluster\n",
    "else:\n",
    "    print('Done')\n",
    "\n",
    "# Visualize data    \n",
    "visualize_cluster_data(plt, X, clusters, 'Step 3', filename = 'DBScanExampleStep3')"
   ]
  },
  {
   "cell_type": "markdown",
   "metadata": {},
   "source": [
    "Identify neighbours of the current point within eps distance"
   ]
  },
  {
   "cell_type": "code",
   "execution_count": 17,
   "metadata": {
    "collapsed": true
   },
   "outputs": [],
   "source": [
    "current_distance = connectivity[maxIndex]\n",
    "current_indices = indices[current_distance<eps]"
   ]
  },
  {
   "cell_type": "markdown",
   "metadata": {},
   "source": [
    "If each of these points have minimum sample points around them, mark them for recursive exploration"
   ]
  },
  {
   "cell_type": "code",
   "execution_count": 18,
   "metadata": {},
   "outputs": [
    {
     "name": "stdout",
     "output_type": "stream",
     "text": [
      "[1 2 3 4 5 6]\n"
     ]
    }
   ],
   "source": [
    "related_clusters = current_indices[density[current_indices] >= min_points]\n",
    "print(related_clusters)"
   ]
  },
  {
   "cell_type": "markdown",
   "metadata": {},
   "source": [
    "For each of the points marked for exploration, if they do not belong to any cluster,\n",
    "    assign the point to current cluster and \n",
    "    identify neighours withing eps distance   "
   ]
  },
  {
   "cell_type": "code",
   "execution_count": 19,
   "metadata": {},
   "outputs": [
    {
     "name": "stdout",
     "output_type": "stream",
     "text": [
      "[array([1, 2, 3, 4, 5, 6]), array([1, 2, 3, 4, 5, 6]), array([1, 2, 3, 4, 5, 6]), array([1, 2, 3, 4, 5, 6]), array([1, 2, 3, 4, 5, 6])]\n"
     ]
    }
   ],
   "source": [
    "new_relations = []\n",
    "for c in related_clusters:\n",
    "    if (clusters[c] == -1):\n",
    "        clusters[c] = current_cluster # Only for unallocated points\n",
    "        \n",
    "        # identify and append the neighbours\n",
    "        new_distances = connectivity[c]\n",
    "        new_indices = indices[current_distance<eps]\n",
    "        new_relations.append(new_indices[density[new_indices] >= min_points])\n",
    "\n",
    "print(new_relations)"
   ]
  },
  {
   "cell_type": "markdown",
   "metadata": {},
   "source": [
    "As all of the 'new relations' have already been allocated to clusters, we are done with this high density area. "
   ]
  },
  {
   "cell_type": "code",
   "execution_count": 20,
   "metadata": {},
   "outputs": [
    {
     "data": {
      "image/png": "[encoded data removed]",
      "text/plain": [
       "<matplotlib.figure.Figure at 0x1f4db6ada90>"
      ]
     },
     "metadata": {},
     "output_type": "display_data"
    }
   ],
   "source": [
    "# Visualize the data\n",
    "visualize_cluster_data(plt, X, clusters, 'Step 4', filename = 'DBScanExampleStep4')"
   ]
  },
  {
   "cell_type": "markdown",
   "metadata": {},
   "source": [
    "Start the next iteration with remaining data points. Objective is to find the high density areas from remaining data points"
   ]
  },
  {
   "cell_type": "code",
   "execution_count": 21,
   "metadata": {
    "collapsed": true
   },
   "outputs": [],
   "source": [
    "# Start looking for next cluster\n",
    "current_cluster = current_cluster + 1\n",
    "\n",
    "# Indentify remaining data points\n",
    "remaining_indices = []\n",
    "i = 0;\n",
    "for c in clusters:\n",
    "    if c == -1:\n",
    "        remaining_indices.append(i)\n",
    "    i = i+ 1"
   ]
  },
  {
   "cell_type": "markdown",
   "metadata": {},
   "source": [
    "Identify maximum density point from the remaining points"
   ]
  },
  {
   "cell_type": "code",
   "execution_count": 22,
   "metadata": {
    "collapsed": true
   },
   "outputs": [],
   "source": [
    "remaining_density = density[remaining_indices]\n",
    "maxIndex = remaining_indices[np.argmax(remaining_density)]"
   ]
  },
  {
   "cell_type": "markdown",
   "metadata": {},
   "source": [
    "If the max density point does not have minimum number of samples, stop the algorithm. Else mark the highest density point in the current cluster"
   ]
  },
  {
   "cell_type": "code",
   "execution_count": 23,
   "metadata": {},
   "outputs": [
    {
     "data": {
      "image/png": "[encoded data removed]",
      "text/plain": [
       "<matplotlib.figure.Figure at 0x1f4db72a2b0>"
      ]
     },
     "metadata": {},
     "output_type": "display_data"
    }
   ],
   "source": [
    "if (density[maxIndex] >= min_points):\n",
    "    clusters[maxIndex] = current_cluster\n",
    "else:\n",
    "    print('Done')\n",
    "visualize_cluster_data(plt, X, clusters, 'Step 5', filename = 'DBScanExampleStep5')"
   ]
  },
  {
   "cell_type": "markdown",
   "metadata": {},
   "source": [
    "Identify neighbours of the current point within eps distance"
   ]
  },
  {
   "cell_type": "code",
   "execution_count": 24,
   "metadata": {
    "collapsed": true
   },
   "outputs": [],
   "source": [
    "current_distance = connectivity[maxIndex]\n",
    "current_indices = indices[current_distance<eps]"
   ]
  },
  {
   "cell_type": "markdown",
   "metadata": {},
   "source": [
    "If each of these points have minimum sample points around them, mark them for recursive exploration"
   ]
  },
  {
   "cell_type": "code",
   "execution_count": 25,
   "metadata": {},
   "outputs": [
    {
     "name": "stdout",
     "output_type": "stream",
     "text": [
      "[ 7  8 10 12]\n"
     ]
    }
   ],
   "source": [
    "related_clusters = current_indices[density[current_indices] >= min_points]\n",
    "print(related_clusters)"
   ]
  },
  {
   "cell_type": "markdown",
   "metadata": {},
   "source": [
    "For each of the points marked for exploration, if they do not belong to any cluster,\n",
    "    assign the point to current cluster and \n",
    "    identify neighours withing eps distance   "
   ]
  },
  {
   "cell_type": "code",
   "execution_count": 26,
   "metadata": {},
   "outputs": [
    {
     "name": "stdout",
     "output_type": "stream",
     "text": [
      "[array([ 7,  8, 10, 12]), array([ 7,  8, 10, 12]), array([ 7,  8, 10, 12])]\n"
     ]
    }
   ],
   "source": [
    "new_relations = []\n",
    "for c in related_clusters:\n",
    "    if (clusters[c] == -1):\n",
    "        clusters[c] = current_cluster\n",
    "        new_distances = connectivity[c]\n",
    "        new_indices = indices[current_distance<eps]\n",
    "        new_relations.append(new_indices[density[new_indices] >= min_points])\n",
    "\n",
    "print(new_relations)"
   ]
  },
  {
   "cell_type": "markdown",
   "metadata": {},
   "source": [
    "As all of the 'new relations' have already been allocated to clusters, we are done with this high density area. "
   ]
  },
  {
   "cell_type": "code",
   "execution_count": 27,
   "metadata": {},
   "outputs": [
    {
     "data": {
      "image/png": "[encoded data removed]",
      "text/plain": [
       "<matplotlib.figure.Figure at 0x1f4db746c18>"
      ]
     },
     "metadata": {},
     "output_type": "display_data"
    }
   ],
   "source": [
    "visualize_cluster_data(plt, X, clusters, 'Step 6', filename = 'DBScanExampleStep6')"
   ]
  },
  {
   "cell_type": "markdown",
   "metadata": {},
   "source": [
    "Start the next iteration with remaining data points. Objective is to find the high density areas from remaining data points"
   ]
  },
  {
   "cell_type": "code",
   "execution_count": 28,
   "metadata": {
    "collapsed": true
   },
   "outputs": [],
   "source": [
    "# Start looking for next cluster\n",
    "current_cluster = current_cluster + 1\n",
    "\n",
    "# Indentify remaining data points\n",
    "remaining_indices = []\n",
    "i = 0;\n",
    "for c in clusters:\n",
    "    if c == -1:\n",
    "        remaining_indices.append(i)\n",
    "    i = i+ 1"
   ]
  },
  {
   "cell_type": "markdown",
   "metadata": {
    "collapsed": true
   },
   "source": [
    "Identify maximum density point from the remaining points"
   ]
  },
  {
   "cell_type": "code",
   "execution_count": 29,
   "metadata": {},
   "outputs": [],
   "source": [
    "remaining_density = density[remaining_indices]\n",
    "maxIndex = remaining_indices[np.argmax(remaining_density)]"
   ]
  },
  {
   "cell_type": "markdown",
   "metadata": {},
   "source": [
    "If the max density point does not have minimum number of samples, stop the algorithm. Else mark the highest density point in the current cluster"
   ]
  },
  {
   "cell_type": "code",
   "execution_count": 30,
   "metadata": {},
   "outputs": [
    {
     "name": "stdout",
     "output_type": "stream",
     "text": [
      "Done\n"
     ]
    }
   ],
   "source": [
    "if (density[maxIndex] >= min_points):\n",
    "    clusters[maxIndex] = current_cluster\n",
    "else:\n",
    "    print('Done')"
   ]
  },
  {
   "cell_type": "markdown",
   "metadata": {},
   "source": [
    "As the remaining data points do not have the minimum required density, they will remain outliers and we will terminate the algorithm"
   ]
  },
  {
   "cell_type": "code",
   "execution_count": 31,
   "metadata": {},
   "outputs": [
    {
     "data": {
      "image/png": "[encoded data removed]",
      "text/plain": [
       "<matplotlib.figure.Figure at 0x1f4db716390>"
      ]
     },
     "metadata": {},
     "output_type": "display_data"
    }
   ],
   "source": [
    "visualize_cluster_data(plt, X, clusters, 'Final Clusters', filename = 'DBScanExampleStep7')"
   ]
  }
 ],
 "metadata": {
  "kernelspec": {
   "display_name": "Python 3",
   "language": "python",
   "name": "python3"
  },
  "language_info": {
   "codemirror_mode": {
    "name": "ipython",
    "version": 3
   },
   "file_extension": ".py",
   "mimetype": "text/x-python",
   "name": "python",
   "nbconvert_exporter": "python",
   "pygments_lexer": "ipython3",
   "version": "3.6.3"
  }
 },
 "nbformat": 4,
 "nbformat_minor": 2
}
