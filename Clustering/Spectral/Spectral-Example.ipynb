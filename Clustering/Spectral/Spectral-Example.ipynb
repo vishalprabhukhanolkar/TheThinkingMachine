{
 "cells": [
  {
   "cell_type": "code",
   "execution_count": 1,
   "metadata": {
    "collapsed": true
   },
   "outputs": [],
   "source": [
    "import numpy as np\n",
    "import matplotlib.pyplot as plt\n",
    "import pandas as pd\n",
    "import sys\n",
    "sys.path.append('../common')\n",
    "from commonfunctions import visualize_cluster_data"
   ]
  },
  {
   "cell_type": "code",
   "execution_count": 2,
   "metadata": {},
   "outputs": [
    {
     "data": {
      "image/png": "[encoded data removed]",
      "text/plain": [
       "<matplotlib.figure.Figure at 0x12af19ddbe0>"
      ]
     },
     "metadata": {},
     "output_type": "display_data"
    }
   ],
   "source": [
    "X = pd.read_csv('../Data/data2.csv').iloc[:, [1,2]].values\n",
    "clusters = [2] * X.shape[0]\n",
    "visualize_cluster_data(plt, X, clusters, 'Raw data', filename='SpectralRawData')"
   ]
  },
  {
   "cell_type": "markdown",
   "metadata": {},
   "source": [
    "# Algorithm"
   ]
  },
  {
   "cell_type": "markdown",
   "metadata": {},
   "source": [
    "## 1. Calculate the distance matrix"
   ]
  },
  {
   "cell_type": "markdown",
   "metadata": {},
   "source": [
    "## 2. Convert to affinity matrix and look for eigen vectors"
   ]
  },
  {
   "cell_type": "markdown",
   "metadata": {},
   "source": [
    "## 3. Apply k-means on the eigenvectors"
   ]
  },
  {
   "cell_type": "markdown",
   "metadata": {},
   "source": [
    "We will use kneighbors_graph for calculating the distance matrix"
   ]
  },
  {
   "cell_type": "code",
   "execution_count": 3,
   "metadata": {},
   "outputs": [
    {
     "name": "stdout",
     "output_type": "stream",
     "text": [
      "[[ 0.   1.4  2.   1.4  4.1  3.2  5.4  5.   5.   4.1]\n",
      " [ 1.4  0.   1.4  2.   5.   4.5  6.7  6.4  6.1  5.4]\n",
      " [ 2.   1.4  0.   1.4  4.1  4.2  6.4  6.4  5.4  5. ]\n",
      " [ 1.4  2.   1.4  0.   3.   2.8  5.   5.   4.1  3.6]\n",
      " [ 4.1  5.   4.1  3.   0.   2.2  3.2  4.   1.4  2. ]\n",
      " [ 3.2  4.5  4.2  2.8  2.2  0.   2.2  2.2  2.2  1. ]\n",
      " [ 5.4  6.7  6.4  5.   3.2  2.2  0.   1.4  2.   1.4]\n",
      " [ 5.   6.4  6.4  5.   4.   2.2  1.4  0.   3.2  2. ]\n",
      " [ 5.   6.1  5.4  4.1  1.4  2.2  2.   3.2  0.   1.4]\n",
      " [ 4.1  5.4  5.   3.6  2.   1.   1.4  2.   1.4  0. ]]\n"
     ]
    }
   ],
   "source": [
    "# Calculate the euclidean distance\n",
    "from sklearn.neighbors import kneighbors_graph\n",
    "connectivity = kneighbors_graph(X, X.shape[0] - 1, mode='distance')\n",
    "\n",
    "# Set appropriate print options and print the distance matrix\n",
    "np.set_printoptions(precision=1, suppress=True)\n",
    "connectivity = connectivity.toarray()\n",
    "print(connectivity)"
   ]
  },
  {
   "cell_type": "markdown",
   "metadata": {},
   "source": [
    "Convert the distance matris to affinity "
   ]
  },
  {
   "cell_type": "code",
   "execution_count": 4,
   "metadata": {},
   "outputs": [
    {
     "name": "stdout",
     "output_type": "stream",
     "text": [
      "[[ 1.   0.1  0.   0.1  0.   0.   0.   0.   0.   0. ]\n",
      " [ 0.1  1.   0.1  0.   0.   0.   0.   0.   0.   0. ]\n",
      " [ 0.   0.1  1.   0.1  0.   0.   0.   0.   0.   0. ]\n",
      " [ 0.1  0.   0.1  1.   0.   0.   0.   0.   0.   0. ]\n",
      " [ 0.   0.   0.   0.   1.   0.   0.   0.   0.1  0. ]\n",
      " [ 0.   0.   0.   0.   0.   1.   0.   0.   0.   0.4]\n",
      " [ 0.   0.   0.   0.   0.   0.   1.   0.1  0.   0.1]\n",
      " [ 0.   0.   0.   0.   0.   0.   0.1  1.   0.   0. ]\n",
      " [ 0.   0.   0.   0.   0.1  0.   0.   0.   1.   0.1]\n",
      " [ 0.   0.   0.   0.   0.   0.4  0.1  0.   0.1  1. ]]\n"
     ]
    }
   ],
   "source": [
    "affinity = np.exp(- connectivity ** 2 )\n",
    "print(affinity)"
   ]
  },
  {
   "cell_type": "markdown",
   "metadata": {},
   "source": [
    "Check the output we calculated with the output of actual clustering "
   ]
  },
  {
   "cell_type": "code",
   "execution_count": 5,
   "metadata": {},
   "outputs": [
    {
     "data": {
      "image/png": "[encoded data removed]",
      "text/plain": [
       "<matplotlib.figure.Figure at 0x12aede09fd0>"
      ]
     },
     "metadata": {},
     "output_type": "display_data"
    }
   ],
   "source": [
    "# Perform spectral clustering\n",
    "from sklearn.cluster import SpectralClustering\n",
    "estimator = SpectralClustering(n_clusters = 2)\n",
    "estimator.fit(X)\n",
    "visualize_cluster_data(plt, X, estimator.labels_, 'Spectral Clustering (2 clusters)', filename='spectralexample1')"
   ]
  },
  {
   "cell_type": "code",
   "execution_count": 6,
   "metadata": {},
   "outputs": [
    {
     "name": "stdout",
     "output_type": "stream",
     "text": [
      "[[ 1.   0.1  0.   0.1  0.   0.   0.   0.   0.   0. ]\n",
      " [ 0.1  1.   0.1  0.   0.   0.   0.   0.   0.   0. ]\n",
      " [ 0.   0.1  1.   0.1  0.   0.   0.   0.   0.   0. ]\n",
      " [ 0.1  0.   0.1  1.   0.   0.   0.   0.   0.   0. ]\n",
      " [ 0.   0.   0.   0.   1.   0.   0.   0.   0.1  0. ]\n",
      " [ 0.   0.   0.   0.   0.   1.   0.   0.   0.   0.4]\n",
      " [ 0.   0.   0.   0.   0.   0.   1.   0.1  0.   0.1]\n",
      " [ 0.   0.   0.   0.   0.   0.   0.1  1.   0.   0. ]\n",
      " [ 0.   0.   0.   0.   0.1  0.   0.   0.   1.   0.1]\n",
      " [ 0.   0.   0.   0.   0.   0.4  0.1  0.   0.1  1. ]]\n"
     ]
    }
   ],
   "source": [
    "print(estimator.affinity_matrix_)"
   ]
  },
  {
   "cell_type": "markdown",
   "metadata": {},
   "source": [
    "Check difference between the 2 matrix. Output should be 0"
   ]
  },
  {
   "cell_type": "code",
   "execution_count": 7,
   "metadata": {},
   "outputs": [
    {
     "name": "stdout",
     "output_type": "stream",
     "text": [
      "0\n"
     ]
    }
   ],
   "source": [
    "print(np.sum(estimator.affinity_matrix_ - affinity >= 0.01)) # Expected value = 0"
   ]
  },
  {
   "cell_type": "markdown",
   "metadata": {},
   "source": [
    "Check the output for number of clusters = 3"
   ]
  },
  {
   "cell_type": "code",
   "execution_count": 8,
   "metadata": {},
   "outputs": [
    {
     "data": {
      "image/png": "[encoded data removed]",
      "text/plain": [
       "<matplotlib.figure.Figure at 0x12aede098d0>"
      ]
     },
     "metadata": {},
     "output_type": "display_data"
    }
   ],
   "source": [
    "# Perform spectral clustering\n",
    "from sklearn.cluster import SpectralClustering\n",
    "\n",
    "estimator = SpectralClustering(n_clusters = 3)\n",
    "estimator.fit(X)\n",
    "visualize_cluster_data(plt, X, estimator.labels_, 'Spectral Clustering (3 clusters)', filename='spectralexample2')"
   ]
  },
  {
   "cell_type": "markdown",
   "metadata": {
    "collapsed": true
   },
   "source": [
    "Make sure that the affinity matrix remains the same. This is because, the affinity matrix captures the structure of the data. Clustering is applied after this calculation."
   ]
  },
  {
   "cell_type": "code",
   "execution_count": 9,
   "metadata": {},
   "outputs": [
    {
     "name": "stdout",
     "output_type": "stream",
     "text": [
      "[[ 1.   0.1  0.   0.1  0.   0.   0.   0.   0.   0. ]\n",
      " [ 0.1  1.   0.1  0.   0.   0.   0.   0.   0.   0. ]\n",
      " [ 0.   0.1  1.   0.1  0.   0.   0.   0.   0.   0. ]\n",
      " [ 0.1  0.   0.1  1.   0.   0.   0.   0.   0.   0. ]\n",
      " [ 0.   0.   0.   0.   1.   0.   0.   0.   0.1  0. ]\n",
      " [ 0.   0.   0.   0.   0.   1.   0.   0.   0.   0.4]\n",
      " [ 0.   0.   0.   0.   0.   0.   1.   0.1  0.   0.1]\n",
      " [ 0.   0.   0.   0.   0.   0.   0.1  1.   0.   0. ]\n",
      " [ 0.   0.   0.   0.   0.1  0.   0.   0.   1.   0.1]\n",
      " [ 0.   0.   0.   0.   0.   0.4  0.1  0.   0.1  1. ]]\n"
     ]
    }
   ],
   "source": [
    "print(estimator.affinity_matrix_)"
   ]
  },
  {
   "cell_type": "code",
   "execution_count": null,
   "metadata": {
    "collapsed": true
   },
   "outputs": [],
   "source": []
  }
 ],
 "metadata": {
  "kernelspec": {
   "display_name": "Python 3",
   "language": "python",
   "name": "python3"
  },
  "language_info": {
   "codemirror_mode": {
    "name": "ipython",
    "version": 3
   },
   "file_extension": ".py",
   "mimetype": "text/x-python",
   "name": "python",
   "nbconvert_exporter": "python",
   "pygments_lexer": "ipython3",
   "version": "3.6.3"
  }
 },
 "nbformat": 4,
 "nbformat_minor": 2
}
